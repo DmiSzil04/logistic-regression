{
 "cells": [
  {
   "cell_type": "code",
   "execution_count": 1,
   "metadata": {
    "id": "PLEfjc7ZF2oo"
   },
   "outputs": [],
   "source": [
    "import numpy as np\n",
    "import pandas as pd\n",
    "import matplotlib.pyplot as plt\n",
    "\n",
    "from sklearn.datasets import load_digits\n",
    "from sklearn.model_selection import train_test_split\n",
    "\n",
    "np.random.seed(17)"
   ]
  },
  {
   "cell_type": "markdown",
   "metadata": {
    "id": "cBO28yosF2ou"
   },
   "source": [
    "### Данные"
   ]
  },
  {
   "cell_type": "code",
   "execution_count": 2,
   "metadata": {
    "id": "WZiO8IkkF2ow"
   },
   "outputs": [],
   "source": [
    "data = load_digits()"
   ]
  },
  {
   "cell_type": "code",
   "execution_count": 3,
   "metadata": {
    "id": "VXwbMQk1F2ox"
   },
   "outputs": [],
   "source": [
    "X = data['data']\n",
    "y = (data['target'] >= 5).astype(np.int32)"
   ]
  },
  {
   "cell_type": "code",
   "execution_count": 4,
   "metadata": {
    "colab": {
     "base_uri": "https://localhost:8080/",
     "height": 472
    },
    "id": "yrobdhWOF2oy",
    "outputId": "f7b7a1ec-08f5-40e3-a09b-4ddd8d4cf1cb"
   },
   "outputs": [
    {
     "data": {
      "text/plain": [
       "<Figure size 640x480 with 0 Axes>"
      ]
     },
     "metadata": {},
     "output_type": "display_data"
    },
    {
     "data": {
      "image/png": "[encoded data removed]",
      "text/plain": [
       "<Figure size 480x480 with 1 Axes>"
      ]
     },
     "metadata": {},
     "output_type": "display_data"
    },
    {
     "name": "stdout",
     "output_type": "stream",
     "text": [
      "1\n"
     ]
    }
   ],
   "source": [
    "plt.gray()\n",
    "index = np.random.randint(0, len(X) - 1)\n",
    "plt.matshow(X[index].reshape(8, 8))\n",
    "plt.show()\n",
    "print(data.target[index])"
   ]
  },
  {
   "cell_type": "code",
   "execution_count": 5,
   "metadata": {
    "id": "ZuTYUNrrF2o0"
   },
   "outputs": [],
   "source": [
    "X_train, X_test, y_train, y_test = train_test_split(X,\n",
    "                                                    y,\n",
    "                                                    train_size=0.77,\n",
    "                                                    shuffle=True)"
   ]
  },
  {
   "cell_type": "code",
   "execution_count": 6,
   "metadata": {
    "id": "7NYqWl9nF2o0",
    "outputId": "21f4bee8-24d5-45be-fae8-8b45da8e1ccf"
   },
   "outputs": [
    {
     "data": {
      "text/plain": [
       "((1383, 64), (414, 64))"
      ]
     },
     "execution_count": 6,
     "metadata": {},
     "output_type": "execute_result"
    }
   ],
   "source": [
    "X_train.shape, X_test.shape"
   ]
  },
  {
   "cell_type": "markdown",
   "metadata": {
    "id": "a8HeOx9TF2o1"
   },
   "source": [
    "### Логистическая регрессия"
   ]
  },
  {
   "cell_type": "markdown",
   "metadata": {
    "id": "yPVYiOCyF2o3"
   },
   "source": [
    "Вычисление предсказания логистической регрессией для объекта $x_i \\in \\mathbb{R}^n$ :\n",
    "\n",
    "* $z = w^T x_i + b, \\quad w \\in \\mathbb{R}^n, b \\in \\mathbb{R}$\n",
    "* $a = \\sigma (z)$"
   ]
  },
  {
   "cell_type": "markdown",
   "metadata": {
    "id": "IT2v_jzeF2o3"
   },
   "source": [
    "Сигмоида\n",
    "\n",
    "$$\\sigma(x) = \\frac{1}{1 + e^{-x}}$$\n",
    "\n",
    "![alt text](https://upload.wikimedia.org/wikipedia/commons/a/ac/Logistic-curve.png)"
   ]
  },
  {
   "cell_type": "markdown",
   "metadata": {
    "id": "0f5i_KJ6F2o4"
   },
   "source": [
    "Логистическая фунция потерь:\n",
    "\n",
    "$$L_i(a) = -y_i \\cdot log(a) - (1 - y_i) \\cdot log(1 - a)$$"
   ]
  },
  {
   "cell_type": "markdown",
   "metadata": {
    "id": "YGTz-TSoF2o4"
   },
   "source": [
    "Производные функции по параметрам:\n",
    "\n",
    "$$\\frac{\\partial L_i}{\\partial w} = \\frac{\\partial L_i}{\\partial a} \\cdot \\frac{\\partial a}{\\partial z}\n",
    "\\cdot \\frac{\\partial z}{\\partial w} = \\frac {a - y_i} {a \\cdot (1-a)} \\cdot a \\cdot (1-a) \\cdot x_i = (a-y_i) \\cdot x_i $$\n",
    "\n",
    "$$\\frac{\\partial L_i}{\\partial b} = \\frac{\\partial L_i}{\\partial a} \\cdot \\frac{\\partial a}{\\partial z}\n",
    "\\cdot \\frac{\\partial z}{\\partial b} = \\frac {a - y_i} {a \\cdot (1-a)} \\cdot a \\cdot (1-a) \\cdot 1 = a-y_i $$\n",
    "\n",
    "Используются для минимизации функции потерь $L$ с помощью градиентного спуска."
   ]
  },
  {
   "cell_type": "code",
   "execution_count": 59,
   "metadata": {
    "id": "QgEqkURSF2o5"
   },
   "outputs": [],
   "source": [
    "def log_loss(y_true, y_pred):\n",
    "    func = 0\n",
    "    for i in range(len(y_true)):\n",
    "        func += y_true[i] * np.log(y_pred[i]) + (1 - y_true[i]) * np.log(1 - y_pred[i])\n",
    "    return -func / len(y_true)\n",
    "\n",
    "def log_loss_dw(y_true, y_pred, X_test):\n",
    "    func = 0\n",
    "    for i in range(len(y_true)):\n",
    "        func += (y_pred[i] - y_true[i]) * X_test[i]\n",
    "    return -func\n",
    "\n",
    "def log_loss_db(y_pred, y_true):\n",
    "    func = 0\n",
    "    for i in range(len(y_true)):\n",
    "        func += y_pred[i] - y_true[i]\n",
    "    return -func\n",
    "\n",
    "def sigmoid(x, w, b):\n",
    "    return 1 / (1 + np.exp(-np.matmul(w, x) + b))"
   ]
  },
  {
   "cell_type": "code",
   "execution_count": 8,
   "metadata": {
    "id": "YhHnom43F2o5",
    "outputId": "0b653983-2aa9-4f9a-abea-845e7d54075b"
   },
   "outputs": [
    {
     "name": "stdout",
     "output_type": "stream",
     "text": [
      "Число объектов в обучающей выборке: 1383\n",
      "Размерность объекта: 64\n"
     ]
    }
   ],
   "source": [
    "m, n = X_train.shape\n",
    "print(f'Число объектов в обучающей выборке: {m}\\nРазмерность объекта: {n}')"
   ]
  },
  {
   "cell_type": "markdown",
   "metadata": {},
   "source": [
    "<h2>Работа</h2>"
   ]
  },
  {
   "cell_type": "code",
   "execution_count": 9,
   "metadata": {},
   "outputs": [
    {
     "data": {
      "text/plain": [
       "array([[ 0.,  0.,  6., ...,  0.,  0.,  0.],\n",
       "       [ 0.,  0.,  9., ...,  0.,  0.,  0.],\n",
       "       [ 0.,  0.,  1., ...,  9.,  0.,  0.],\n",
       "       ...,\n",
       "       [ 0.,  0., 10., ...,  0.,  0.,  0.],\n",
       "       [ 0.,  6., 16., ..., 11.,  1.,  0.],\n",
       "       [ 0.,  1.,  8., ...,  0.,  0.,  0.]])"
      ]
     },
     "execution_count": 9,
     "metadata": {},
     "output_type": "execute_result"
    }
   ],
   "source": [
    "X_train"
   ]
  },
  {
   "cell_type": "code",
   "execution_count": 10,
   "metadata": {},
   "outputs": [
    {
     "data": {
      "text/plain": [
       "array([1, 1, 1, ..., 1, 0, 1])"
      ]
     },
     "execution_count": 10,
     "metadata": {},
     "output_type": "execute_result"
    }
   ],
   "source": [
    "y_train"
   ]
  },
  {
   "cell_type": "code",
   "execution_count": 11,
   "metadata": {},
   "outputs": [],
   "source": [
    "df = pd.DataFrame(X_train)"
   ]
  },
  {
   "cell_type": "code",
   "execution_count": 12,
   "metadata": {},
   "outputs": [
    {
     "data": {
      "text/html": [
       "<div>\n",
       "<style scoped>\n",
       "    .dataframe tbody tr th:only-of-type {\n",
       "        vertical-align: middle;\n",
       "    }\n",
       "\n",
       "    .dataframe tbody tr th {\n",
       "        vertical-align: top;\n",
       "    }\n",
       "\n",
       "    .dataframe thead th {\n",
       "        text-align: right;\n",
       "    }\n",
       "</style>\n",
       "<table border=\"1\" class=\"dataframe\">\n",
       "  <thead>\n",
       "    <tr style=\"text-align: right;\">\n",
       "      <th></th>\n",
       "      <th>0</th>\n",
       "      <th>1</th>\n",
       "      <th>2</th>\n",
       "      <th>3</th>\n",
       "      <th>4</th>\n",
       "      <th>5</th>\n",
       "      <th>6</th>\n",
       "      <th>7</th>\n",
       "      <th>8</th>\n",
       "      <th>9</th>\n",
       "      <th>...</th>\n",
       "      <th>54</th>\n",
       "      <th>55</th>\n",
       "      <th>56</th>\n",
       "      <th>57</th>\n",
       "      <th>58</th>\n",
       "      <th>59</th>\n",
       "      <th>60</th>\n",
       "      <th>61</th>\n",
       "      <th>62</th>\n",
       "      <th>63</th>\n",
       "    </tr>\n",
       "  </thead>\n",
       "  <tbody>\n",
       "    <tr>\n",
       "      <th>0</th>\n",
       "      <td>0.0</td>\n",
       "      <td>0.0</td>\n",
       "      <td>6.0</td>\n",
       "      <td>11.0</td>\n",
       "      <td>16.0</td>\n",
       "      <td>16.0</td>\n",
       "      <td>3.0</td>\n",
       "      <td>0.0</td>\n",
       "      <td>0.0</td>\n",
       "      <td>5.0</td>\n",
       "      <td>...</td>\n",
       "      <td>0.0</td>\n",
       "      <td>0.0</td>\n",
       "      <td>0.0</td>\n",
       "      <td>0.0</td>\n",
       "      <td>5.0</td>\n",
       "      <td>16.0</td>\n",
       "      <td>13.0</td>\n",
       "      <td>0.0</td>\n",
       "      <td>0.0</td>\n",
       "      <td>0.0</td>\n",
       "    </tr>\n",
       "    <tr>\n",
       "      <th>1</th>\n",
       "      <td>0.0</td>\n",
       "      <td>0.0</td>\n",
       "      <td>9.0</td>\n",
       "      <td>16.0</td>\n",
       "      <td>6.0</td>\n",
       "      <td>0.0</td>\n",
       "      <td>0.0</td>\n",
       "      <td>0.0</td>\n",
       "      <td>0.0</td>\n",
       "      <td>3.0</td>\n",
       "      <td>...</td>\n",
       "      <td>0.0</td>\n",
       "      <td>0.0</td>\n",
       "      <td>0.0</td>\n",
       "      <td>0.0</td>\n",
       "      <td>12.0</td>\n",
       "      <td>14.0</td>\n",
       "      <td>3.0</td>\n",
       "      <td>0.0</td>\n",
       "      <td>0.0</td>\n",
       "      <td>0.0</td>\n",
       "    </tr>\n",
       "    <tr>\n",
       "      <th>2</th>\n",
       "      <td>0.0</td>\n",
       "      <td>0.0</td>\n",
       "      <td>1.0</td>\n",
       "      <td>11.0</td>\n",
       "      <td>14.0</td>\n",
       "      <td>0.0</td>\n",
       "      <td>0.0</td>\n",
       "      <td>0.0</td>\n",
       "      <td>0.0</td>\n",
       "      <td>0.0</td>\n",
       "      <td>...</td>\n",
       "      <td>4.0</td>\n",
       "      <td>0.0</td>\n",
       "      <td>0.0</td>\n",
       "      <td>0.0</td>\n",
       "      <td>1.0</td>\n",
       "      <td>11.0</td>\n",
       "      <td>14.0</td>\n",
       "      <td>9.0</td>\n",
       "      <td>0.0</td>\n",
       "      <td>0.0</td>\n",
       "    </tr>\n",
       "    <tr>\n",
       "      <th>3</th>\n",
       "      <td>0.0</td>\n",
       "      <td>0.0</td>\n",
       "      <td>0.0</td>\n",
       "      <td>9.0</td>\n",
       "      <td>16.0</td>\n",
       "      <td>10.0</td>\n",
       "      <td>0.0</td>\n",
       "      <td>0.0</td>\n",
       "      <td>0.0</td>\n",
       "      <td>0.0</td>\n",
       "      <td>...</td>\n",
       "      <td>0.0</td>\n",
       "      <td>0.0</td>\n",
       "      <td>0.0</td>\n",
       "      <td>0.0</td>\n",
       "      <td>0.0</td>\n",
       "      <td>10.0</td>\n",
       "      <td>15.0</td>\n",
       "      <td>0.0</td>\n",
       "      <td>0.0</td>\n",
       "      <td>0.0</td>\n",
       "    </tr>\n",
       "    <tr>\n",
       "      <th>4</th>\n",
       "      <td>0.0</td>\n",
       "      <td>0.0</td>\n",
       "      <td>10.0</td>\n",
       "      <td>16.0</td>\n",
       "      <td>8.0</td>\n",
       "      <td>0.0</td>\n",
       "      <td>0.0</td>\n",
       "      <td>0.0</td>\n",
       "      <td>0.0</td>\n",
       "      <td>4.0</td>\n",
       "      <td>...</td>\n",
       "      <td>16.0</td>\n",
       "      <td>4.0</td>\n",
       "      <td>0.0</td>\n",
       "      <td>0.0</td>\n",
       "      <td>11.0</td>\n",
       "      <td>15.0</td>\n",
       "      <td>9.0</td>\n",
       "      <td>8.0</td>\n",
       "      <td>6.0</td>\n",
       "      <td>0.0</td>\n",
       "    </tr>\n",
       "    <tr>\n",
       "      <th>...</th>\n",
       "      <td>...</td>\n",
       "      <td>...</td>\n",
       "      <td>...</td>\n",
       "      <td>...</td>\n",
       "      <td>...</td>\n",
       "      <td>...</td>\n",
       "      <td>...</td>\n",
       "      <td>...</td>\n",
       "      <td>...</td>\n",
       "      <td>...</td>\n",
       "      <td>...</td>\n",
       "      <td>...</td>\n",
       "      <td>...</td>\n",
       "      <td>...</td>\n",
       "      <td>...</td>\n",
       "      <td>...</td>\n",
       "      <td>...</td>\n",
       "      <td>...</td>\n",
       "      <td>...</td>\n",
       "      <td>...</td>\n",
       "      <td>...</td>\n",
       "    </tr>\n",
       "    <tr>\n",
       "      <th>1378</th>\n",
       "      <td>0.0</td>\n",
       "      <td>0.0</td>\n",
       "      <td>10.0</td>\n",
       "      <td>16.0</td>\n",
       "      <td>16.0</td>\n",
       "      <td>10.0</td>\n",
       "      <td>0.0</td>\n",
       "      <td>0.0</td>\n",
       "      <td>0.0</td>\n",
       "      <td>4.0</td>\n",
       "      <td>...</td>\n",
       "      <td>8.0</td>\n",
       "      <td>0.0</td>\n",
       "      <td>0.0</td>\n",
       "      <td>0.0</td>\n",
       "      <td>13.0</td>\n",
       "      <td>15.0</td>\n",
       "      <td>11.0</td>\n",
       "      <td>8.0</td>\n",
       "      <td>14.0</td>\n",
       "      <td>7.0</td>\n",
       "    </tr>\n",
       "    <tr>\n",
       "      <th>1379</th>\n",
       "      <td>0.0</td>\n",
       "      <td>0.0</td>\n",
       "      <td>3.0</td>\n",
       "      <td>12.0</td>\n",
       "      <td>11.0</td>\n",
       "      <td>1.0</td>\n",
       "      <td>0.0</td>\n",
       "      <td>0.0</td>\n",
       "      <td>0.0</td>\n",
       "      <td>1.0</td>\n",
       "      <td>...</td>\n",
       "      <td>3.0</td>\n",
       "      <td>0.0</td>\n",
       "      <td>0.0</td>\n",
       "      <td>0.0</td>\n",
       "      <td>1.0</td>\n",
       "      <td>15.0</td>\n",
       "      <td>14.0</td>\n",
       "      <td>6.0</td>\n",
       "      <td>0.0</td>\n",
       "      <td>0.0</td>\n",
       "    </tr>\n",
       "    <tr>\n",
       "      <th>1380</th>\n",
       "      <td>0.0</td>\n",
       "      <td>0.0</td>\n",
       "      <td>10.0</td>\n",
       "      <td>9.0</td>\n",
       "      <td>14.0</td>\n",
       "      <td>10.0</td>\n",
       "      <td>0.0</td>\n",
       "      <td>0.0</td>\n",
       "      <td>0.0</td>\n",
       "      <td>2.0</td>\n",
       "      <td>...</td>\n",
       "      <td>0.0</td>\n",
       "      <td>0.0</td>\n",
       "      <td>0.0</td>\n",
       "      <td>0.0</td>\n",
       "      <td>9.0</td>\n",
       "      <td>16.0</td>\n",
       "      <td>7.0</td>\n",
       "      <td>0.0</td>\n",
       "      <td>0.0</td>\n",
       "      <td>0.0</td>\n",
       "    </tr>\n",
       "    <tr>\n",
       "      <th>1381</th>\n",
       "      <td>0.0</td>\n",
       "      <td>6.0</td>\n",
       "      <td>16.0</td>\n",
       "      <td>16.0</td>\n",
       "      <td>15.0</td>\n",
       "      <td>7.0</td>\n",
       "      <td>0.0</td>\n",
       "      <td>0.0</td>\n",
       "      <td>0.0</td>\n",
       "      <td>2.0</td>\n",
       "      <td>...</td>\n",
       "      <td>7.0</td>\n",
       "      <td>0.0</td>\n",
       "      <td>0.0</td>\n",
       "      <td>3.0</td>\n",
       "      <td>16.0</td>\n",
       "      <td>16.0</td>\n",
       "      <td>15.0</td>\n",
       "      <td>11.0</td>\n",
       "      <td>1.0</td>\n",
       "      <td>0.0</td>\n",
       "    </tr>\n",
       "    <tr>\n",
       "      <th>1382</th>\n",
       "      <td>0.0</td>\n",
       "      <td>1.0</td>\n",
       "      <td>8.0</td>\n",
       "      <td>12.0</td>\n",
       "      <td>16.0</td>\n",
       "      <td>16.0</td>\n",
       "      <td>3.0</td>\n",
       "      <td>0.0</td>\n",
       "      <td>0.0</td>\n",
       "      <td>5.0</td>\n",
       "      <td>...</td>\n",
       "      <td>0.0</td>\n",
       "      <td>0.0</td>\n",
       "      <td>0.0</td>\n",
       "      <td>0.0</td>\n",
       "      <td>14.0</td>\n",
       "      <td>4.0</td>\n",
       "      <td>0.0</td>\n",
       "      <td>0.0</td>\n",
       "      <td>0.0</td>\n",
       "      <td>0.0</td>\n",
       "    </tr>\n",
       "  </tbody>\n",
       "</table>\n",
       "<p>1383 rows × 64 columns</p>\n",
       "</div>"
      ],
      "text/plain": [
       "       0    1     2     3     4     5    6    7    8    9   ...    54   55  \\\n",
       "0     0.0  0.0   6.0  11.0  16.0  16.0  3.0  0.0  0.0  5.0  ...   0.0  0.0   \n",
       "1     0.0  0.0   9.0  16.0   6.0   0.0  0.0  0.0  0.0  3.0  ...   0.0  0.0   \n",
       "2     0.0  0.0   1.0  11.0  14.0   0.0  0.0  0.0  0.0  0.0  ...   4.0  0.0   \n",
       "3     0.0  0.0   0.0   9.0  16.0  10.0  0.0  0.0  0.0  0.0  ...   0.0  0.0   \n",
       "4     0.0  0.0  10.0  16.0   8.0   0.0  0.0  0.0  0.0  4.0  ...  16.0  4.0   \n",
       "...   ...  ...   ...   ...   ...   ...  ...  ...  ...  ...  ...   ...  ...   \n",
       "1378  0.0  0.0  10.0  16.0  16.0  10.0  0.0  0.0  0.0  4.0  ...   8.0  0.0   \n",
       "1379  0.0  0.0   3.0  12.0  11.0   1.0  0.0  0.0  0.0  1.0  ...   3.0  0.0   \n",
       "1380  0.0  0.0  10.0   9.0  14.0  10.0  0.0  0.0  0.0  2.0  ...   0.0  0.0   \n",
       "1381  0.0  6.0  16.0  16.0  15.0   7.0  0.0  0.0  0.0  2.0  ...   7.0  0.0   \n",
       "1382  0.0  1.0   8.0  12.0  16.0  16.0  3.0  0.0  0.0  5.0  ...   0.0  0.0   \n",
       "\n",
       "       56   57    58    59    60    61    62   63  \n",
       "0     0.0  0.0   5.0  16.0  13.0   0.0   0.0  0.0  \n",
       "1     0.0  0.0  12.0  14.0   3.0   0.0   0.0  0.0  \n",
       "2     0.0  0.0   1.0  11.0  14.0   9.0   0.0  0.0  \n",
       "3     0.0  0.0   0.0  10.0  15.0   0.0   0.0  0.0  \n",
       "4     0.0  0.0  11.0  15.0   9.0   8.0   6.0  0.0  \n",
       "...   ...  ...   ...   ...   ...   ...   ...  ...  \n",
       "1378  0.0  0.0  13.0  15.0  11.0   8.0  14.0  7.0  \n",
       "1379  0.0  0.0   1.0  15.0  14.0   6.0   0.0  0.0  \n",
       "1380  0.0  0.0   9.0  16.0   7.0   0.0   0.0  0.0  \n",
       "1381  0.0  3.0  16.0  16.0  15.0  11.0   1.0  0.0  \n",
       "1382  0.0  0.0  14.0   4.0   0.0   0.0   0.0  0.0  \n",
       "\n",
       "[1383 rows x 64 columns]"
      ]
     },
     "execution_count": 12,
     "metadata": {},
     "output_type": "execute_result"
    }
   ],
   "source": [
    "df"
   ]
  },
  {
   "cell_type": "markdown",
   "metadata": {},
   "source": [
    "<h3>Расчёт w</h3>"
   ]
  },
  {
   "cell_type": "markdown",
   "metadata": {},
   "source": [
    "<i>Зададим начальные значения w и b</i>"
   ]
  },
  {
   "cell_type": "code",
   "execution_count": 34,
   "metadata": {},
   "outputs": [
    {
     "data": {
      "text/plain": [
       "array([ 0.,  0.,  0.,  5., 15.,  3.,  0.,  0.,  0.,  0.,  2., 16.,  4.,\n",
       "        0.,  0.,  0.,  0.,  0.,  8., 12.,  0.,  2., 12.,  0.,  0.,  3.,\n",
       "       16.,  1.,  0., 11., 10.,  0.,  0.,  9., 13.,  0.,  3., 16.,  5.,\n",
       "        0.,  0., 13., 15., 16., 16., 12.,  0.,  0.,  0.,  5., 12., 14.,\n",
       "       16.,  4.,  0.,  0.,  0.,  0.,  0.,  6., 15.,  2.,  0.,  0.])"
      ]
     },
     "execution_count": 34,
     "metadata": {},
     "output_type": "execute_result"
    }
   ],
   "source": [
    "X_train[250]"
   ]
  },
  {
   "cell_type": "code",
   "execution_count": 81,
   "metadata": {},
   "outputs": [
    {
     "data": {
      "text/plain": [
       "array([1., 1., 1., 1., 1., 1., 1., 1., 1., 1., 1., 1., 1., 1., 1., 1., 1.,\n",
       "       1., 1., 1., 1., 1., 1., 1., 1., 1., 1., 1., 1., 1., 1., 1., 1., 1.,\n",
       "       1., 1., 1., 1., 1., 1., 1., 1., 1., 1., 1., 1., 1., 1., 1., 1., 1.,\n",
       "       1., 1., 1., 1., 1., 1., 1., 1., 1., 1., 1., 1., 1., 1., 1., 1., 1.,\n",
       "       1., 1., 1., 1., 1., 1., 1., 1., 1., 1., 1., 1., 1., 1., 1., 1., 1.,\n",
       "       1., 1., 1., 1., 1., 1., 1., 1., 1., 1., 1., 1., 1., 1., 1., 1., 1.,\n",
       "       1., 1., 1., 1., 1., 1., 1., 1., 1., 1., 1., 1., 1., 1., 1., 1., 1.,\n",
       "       1., 1., 1., 1., 1., 1., 1., 1., 1., 1., 1., 1., 1., 1., 1., 1., 1.,\n",
       "       1., 1., 1., 1., 1., 1., 1., 1., 1., 1., 1., 1., 1., 1., 1., 1., 1.,\n",
       "       1., 1., 1., 1., 1., 1., 1., 1., 1., 1., 1., 1., 1., 1., 1., 1., 1.,\n",
       "       1., 1., 1., 1., 1., 1., 1., 1., 1., 1., 1., 1., 1., 1., 1., 1., 1.,\n",
       "       1., 1., 1., 1., 1., 1., 1., 1., 1., 1., 1., 1., 1., 1., 1., 1., 1.,\n",
       "       1., 1., 1., 1., 1., 1., 1., 1., 1., 1., 1., 1., 1., 1., 1., 1., 1.,\n",
       "       1., 1., 1., 1., 1., 1., 1., 1., 1., 1., 1., 1., 1., 1., 1., 1., 1.,\n",
       "       1., 1., 1., 1., 1., 1., 1., 1., 1., 1., 1., 1., 1., 1., 1., 1., 1.,\n",
       "       1., 1., 1., 1., 1., 1., 1., 1., 1., 1., 1., 1., 1., 1., 1., 1., 1.,\n",
       "       1., 1., 1., 1., 1., 1., 1., 1., 1., 1., 1., 1., 1., 1., 1., 1., 1.,\n",
       "       1., 1., 1., 1., 1., 1., 1., 1., 1., 1., 1., 1., 1., 1., 1., 1., 1.,\n",
       "       1., 1., 1., 1., 1., 1., 1., 1., 1., 1., 1., 1., 1., 1., 1., 1., 1.,\n",
       "       1., 1., 1., 1., 1., 1., 1., 1., 1., 1., 1., 1., 1., 1., 1., 1., 1.,\n",
       "       1., 1., 1., 1., 1., 1., 1., 1., 1., 1., 1., 1., 1., 1., 1., 1., 1.,\n",
       "       1., 1., 1., 1., 1., 1., 1., 1., 1., 1., 1., 1., 1., 1., 1., 1., 1.,\n",
       "       1., 1., 1., 1., 1., 1., 1., 1., 1., 1., 1., 1., 1., 1., 1., 1., 1.,\n",
       "       1., 1., 1., 1., 1., 1., 1., 1., 1., 1., 1., 1., 1., 1., 1., 1., 1.,\n",
       "       1., 1., 1., 1., 1., 1.])"
      ]
     },
     "execution_count": 81,
     "metadata": {},
     "output_type": "execute_result"
    }
   ],
   "source": [
    "#w = np.full(X_test.shape[1], 0.007).T\n",
    "b = 0.007\n",
    "y_pred = []\n",
    "y_classified = []\n",
    "\n",
    "for i in range(X_test.shape[0]):\n",
    "    y_pred.append(sigmoid(X_test[i], w, b))\n",
    "\n",
    "np.array(y_pred)"
   ]
  },
  {
   "cell_type": "code",
   "execution_count": 51,
   "metadata": {},
   "outputs": [
    {
     "name": "stdout",
     "output_type": "stream",
     "text": [
      "64\n",
      "0.007\n"
     ]
    }
   ],
   "source": [
    "print(len(w))\n",
    "print(b)"
   ]
  },
  {
   "cell_type": "code",
   "execution_count": 53,
   "metadata": {},
   "outputs": [
    {
     "data": {
      "text/plain": [
       "1.2141997448604738"
      ]
     },
     "execution_count": 53,
     "metadata": {},
     "output_type": "execute_result"
    }
   ],
   "source": [
    "out = log_loss(y_test, y_pred)\n",
    "out"
   ]
  },
  {
   "cell_type": "markdown",
   "metadata": {},
   "source": [
    "<i>Дальше применим метод градиентного спуска для корректировки w и b</i>"
   ]
  },
  {
   "cell_type": "code",
   "execution_count": 60,
   "metadata": {},
   "outputs": [
    {
     "data": {
      "text/plain": [
       "array([-0.00000000e+00, -4.66398576e+01, -8.01537969e+02, -1.91976553e+03,\n",
       "       -1.88919150e+03, -5.99870770e+02, -2.43993847e+01,  2.39588966e+00,\n",
       "       -8.22355447e-01, -4.17339347e+02, -1.50078266e+03, -1.99462603e+03,\n",
       "       -2.08952120e+03, -1.26659425e+03, -1.77664342e+02, -1.03658298e+01,\n",
       "       -1.78349389e+00, -4.32267599e+02, -1.29595332e+03, -1.34490118e+03,\n",
       "       -1.70732873e+03, -1.33723630e+03, -3.01309986e+02, -7.07220455e+00,\n",
       "       -0.00000000e+00, -4.14191976e+02, -1.22521152e+03, -1.26806579e+03,\n",
       "       -1.68247737e+03, -1.15609485e+03, -4.14549320e+02, -1.84199669e+00,\n",
       "       -0.00000000e+00, -5.34450886e+02, -1.20084066e+03, -1.33225565e+03,\n",
       "       -1.71781931e+03, -1.37178197e+03, -4.68601925e+02, -0.00000000e+00,\n",
       "       -6.42654931e+00, -4.20900306e+02, -1.28159242e+03, -1.37670197e+03,\n",
       "       -1.35084618e+03, -1.38634143e+03, -5.33627390e+02,  2.72232554e-01,\n",
       "       -8.31705244e+00, -1.59880686e+02, -1.31982764e+03, -1.65447929e+03,\n",
       "       -1.94196394e+03, -1.62189798e+03, -6.16287476e+02, -4.85771070e+01,\n",
       "       -0.00000000e+00, -3.97727505e+01, -8.32463996e+02, -1.95630834e+03,\n",
       "       -2.20739457e+03, -1.23273260e+03, -4.22179963e+02, -1.01671891e+02])"
      ]
     },
     "execution_count": 60,
     "metadata": {},
     "output_type": "execute_result"
    }
   ],
   "source": [
    "log_loss_dw(y_test, y_pred, X_test)"
   ]
  },
  {
   "cell_type": "code",
   "execution_count": 61,
   "metadata": {},
   "outputs": [
    {
     "data": {
      "text/plain": [
       "-166.19399094508768"
      ]
     },
     "execution_count": 61,
     "metadata": {},
     "output_type": "execute_result"
    }
   ],
   "source": [
    "log_loss_db(y_pred, y_test)"
   ]
  },
  {
   "cell_type": "code",
   "execution_count": 150,
   "metadata": {},
   "outputs": [],
   "source": [
    "def norm(w_0, w_1, b_0, b_1, func_0, func_1):\n",
    "    norm = 0\n",
    "    for i in range(len(w_0)):\n",
    "        norm += (w_1[i] - w_0[i]) **2\n",
    "    norm += (b_1 - b_0) **2\n",
    "    norm += (func_1 - func_0) **2\n",
    "    return norm **0.5"
   ]
  },
  {
   "cell_type": "code",
   "execution_count": 232,
   "metadata": {},
   "outputs": [
    {
     "name": "stdout",
     "output_type": "stream",
     "text": [
      "0.09174931915387735\n",
      "Функция потерь: 12.667606603897381\n",
      "Value = 0.09172687188363257\n",
      "\n",
      "\n",
      "Функция потерь: 12.7590597012452\n",
      "Value = 0.09152238459952633\n",
      "\n",
      "\n",
      "Функция потерь: 12.851042637848407\n",
      "Value = 0.09205182504668663\n",
      "\n",
      "\n",
      "Функция потерь: 12.942299179531755\n",
      "Value = 0.09132597805817723\n",
      "\n",
      "\n",
      "Функция потерь: 13.034142424513007\n",
      "Value = 0.09191223812401594\n",
      "\n",
      "\n",
      "Функция потерь: 13.125239395513127\n",
      "Value = 0.0911665289109854\n",
      "\n",
      "\n",
      "Функция потерь: 13.216376607385385\n",
      "Value = 0.0912067390938353\n",
      "\n",
      "\n",
      "Функция потерь: 13.28647897463852\n",
      "Value = 0.07019273297697197\n",
      "\n",
      "\n",
      "Функция потерь: 13.356908129203351\n",
      "Value = 0.07051910153285303\n",
      "\n",
      "\n",
      "Функция потерь: 13.447905514470083\n",
      "Value = 0.09106701895880757\n",
      "\n",
      "\n",
      "Функция потерь: 13.539480684845966\n",
      "Value = 0.09164436477173828\n",
      "\n",
      "\n",
      "Функция потерь: 13.63061181043835\n",
      "Value = 0.09120065688786892\n",
      "\n",
      "\n",
      "Функция потерь: 13.721881910626163\n",
      "Value = 0.09133952569034953\n",
      "\n",
      "\n",
      "Функция потерь: 13.812646639666585\n",
      "Value = 0.09083454080263931\n",
      "\n",
      "\n",
      "Функция потерь: 13.882257712909436\n",
      "Value = 0.06970207517044817\n",
      "\n",
      "\n",
      "Функция потерь: 13.951572735249444\n",
      "Value = 0.06940641243459847\n",
      "\n",
      "\n",
      "Функция потерь: 14.020877761500524\n",
      "Value = 0.06939642914359045\n",
      "\n",
      "\n",
      "Функция потерь: 14.089389031591137\n",
      "Value = 0.06860372983086743\n",
      "\n",
      "\n",
      "Функция потерь: 14.157477231249832\n",
      "Value = 0.06818123241505433\n",
      "\n",
      "\n",
      "Функция потерь: 14.204363758822527\n",
      "Value = 0.04702152535321713\n",
      "\n",
      "\n",
      "Функция потерь: 14.251662089010978\n",
      "Value = 0.047432155422070146\n",
      "\n",
      "\n",
      "Функция потерь: 14.276723430791245\n",
      "Value = 0.025313002267381757\n",
      "\n",
      "\n",
      "Функция потерь: 14.344919108411714\n",
      "Value = 0.06828856116743122\n",
      "\n",
      "\n",
      "Функция потерь: 14.43353526935246\n",
      "Value = 0.08868765943602613\n",
      "\n",
      "\n",
      "Функция потерь: 14.49953123501166\n",
      "Value = 0.0660919379072995\n",
      "\n",
      "\n",
      "Функция потерь: 14.568612871983214\n",
      "Value = 0.06917332757540516\n",
      "\n",
      "\n",
      "Функция потерь: 14.656406658337898\n",
      "Value = 0.08786595170452689\n",
      "\n",
      "\n",
      "Функция потерь: 14.679688103872364\n",
      "Value = 0.02355211587600965\n",
      "\n",
      "\n",
      "Функция потерь: 14.746432862373034\n",
      "Value = 0.0668396528977833\n",
      "\n",
      "\n",
      "Функция потерь: 14.813873372246313\n",
      "Value = 0.06753442497988411\n",
      "\n",
      "\n",
      "Функция потерь: 14.85677212234302\n",
      "Value = 0.04304623835528595\n",
      "\n",
      "\n",
      "Функция потерь: 14.899962980035315\n",
      "Value = 0.0433373497592348\n",
      "\n",
      "\n",
      "Функция потерь: 14.921561147956991\n",
      "Value = 0.02188964002636214\n",
      "\n",
      "\n",
      "Функция потерь: 14.879175044130912\n",
      "Value = 0.04253536199088535\n",
      "\n",
      "\n",
      "Функция потерь: 14.791948447678687\n",
      "Value = 0.08729922158798885\n",
      "\n",
      "\n",
      "Функция потерь: 14.832856725014345\n",
      "Value = 0.04106289925946018\n",
      "\n",
      "\n",
      "Функция потерь: 14.810446839977553\n",
      "Value = 0.022690903672766688\n",
      "\n",
      "\n",
      "Функция потерь: 14.787097205517949\n",
      "Value = 0.023619464298667462\n",
      "\n",
      "\n",
      "Функция потерь: 14.735902998813396\n",
      "Value = 0.05131783359199019\n",
      "\n",
      "\n",
      "Функция потерь: 14.774427595402637\n",
      "Value = 0.038688722987536193\n",
      "\n",
      "\n",
      "Функция потерь: 14.700776513752423\n",
      "Value = 0.0737370581274925\n",
      "\n",
      "\n",
      "Функция потерь: 14.566558545150643\n",
      "Value = 0.13426516462460766\n",
      "\n",
      "\n",
      "Функция потерь: 14.340087179655534\n",
      "Value = 0.22649933789737717\n",
      "\n",
      "\n",
      "Функция потерь: 14.156383974458645\n",
      "Value = 0.18373768720950479\n",
      "\n",
      "\n",
      "Функция потерь: 13.927342728052949\n",
      "Value = 0.22906890133482682\n",
      "\n",
      "\n",
      "Функция потерь: 13.634471488890798\n",
      "Value = 0.292892865527553\n",
      "\n",
      "\n",
      "Функция потерь: 13.44633665380959\n",
      "Value = 0.1881684967063031\n",
      "\n",
      "\n",
      "Функция потерь: 13.110180456202654\n",
      "Value = 0.33617503669206367\n",
      "\n",
      "\n",
      "Функция потерь: 12.998512733494383\n",
      "Value = 0.11172441720598217\n",
      "\n",
      "\n",
      "Функция потерь: 12.805273045394879\n",
      "Value = 0.19327245244309266\n",
      "\n",
      "\n",
      "Функция потерь: 12.609131040560342\n",
      "Value = 0.19617428294158384\n",
      "\n",
      "\n",
      "Функция потерь: 12.428868057076919\n",
      "Value = 0.18029810156428575\n",
      "\n",
      "\n",
      "Функция потерь: 12.147966436863136\n",
      "Value = 0.28092415645172797\n",
      "\n",
      "\n",
      "Функция потерь: 11.96845922603327\n",
      "Value = 0.17954247244708663\n",
      "\n",
      "\n",
      "Функция потерь: 11.852699097446978\n",
      "Value = 0.11581479597724326\n",
      "\n",
      "\n",
      "Функция потерь: 11.625023563954194\n",
      "Value = 0.22770333194150322\n",
      "\n",
      "\n",
      "Функция потерь: 11.525194900885042\n",
      "Value = 0.09989204129593124\n",
      "\n",
      "\n",
      "Функция потерь: 11.359217490312355\n",
      "Value = 0.16601553499222332\n",
      "\n",
      "\n",
      "Функция потерь: 11.065069194062858\n",
      "Value = 0.29416980898073375\n",
      "\n",
      "\n",
      "Функция потерь: 10.76753533785499\n",
      "Value = 0.2975551230957925\n",
      "\n",
      "\n",
      "Функция потерь: 10.53583806024843\n",
      "Value = 0.23172458487845618\n",
      "\n",
      "\n",
      "Функция потерь: 10.300415250389712\n",
      "Value = 0.23544968290798649\n",
      "\n",
      "\n",
      "Функция потерь: 10.147367855569676\n",
      "Value = 0.15308872455839467\n",
      "\n",
      "\n",
      "Функция потерь: 9.90834143683174\n",
      "Value = 0.2390528824446333\n",
      "\n",
      "\n",
      "Функция потерь: 9.666717309427256\n",
      "Value = 0.24165030496200074\n",
      "\n",
      "\n",
      "Функция потерь: 9.446186926629066\n",
      "Value = 0.22055906194029637\n",
      "\n",
      "\n",
      "Функция потерь: 9.140212794215389\n",
      "Value = 0.3059948021540423\n",
      "\n",
      "\n",
      "Функция потерь: 8.937665325965307\n",
      "Value = 0.2025786900539016\n",
      "\n",
      "\n",
      "Функция потерь: 8.733569002548673\n",
      "Value = 0.20412730630534953\n",
      "\n",
      "\n",
      "Функция потерь: 8.52605412090647\n",
      "Value = 0.2075453528241046\n",
      "\n",
      "\n",
      "Функция потерь: 8.384487356246881\n",
      "Value = 0.1416114244092994\n",
      "\n",
      "\n",
      "Функция потерь: 8.224391014137588\n",
      "Value = 0.1601358315360007\n",
      "\n",
      "\n",
      "Функция потерь: 7.995660638819212\n",
      "Value = 0.22875801546773164\n",
      "\n",
      "\n",
      "Функция потерь: 7.869305683521102\n",
      "Value = 0.12640498046923265\n",
      "\n",
      "\n",
      "Функция потерь: 7.807651077999472\n",
      "Value = 0.06175705625187379\n",
      "\n",
      "\n",
      "Функция потерь: 7.786957425442799\n",
      "Value = 0.020996909626824923\n",
      "\n",
      "\n",
      "Функция потерь: 7.6826344313549395\n",
      "Value = 0.1043835692792551\n",
      "\n",
      "\n",
      "Функция потерь: 7.4083449054733475\n",
      "Value = 0.27431257014389876\n",
      "\n",
      "\n",
      "Функция потерь: 7.19451408581684\n",
      "Value = 0.2138603776339965\n",
      "\n",
      "\n",
      "Функция потерь: 7.107062686535001\n",
      "Value = 0.087523643491884\n",
      "\n",
      "\n",
      "Функция потерь: 7.040568764284166\n",
      "Value = 0.06658890365129298\n",
      "\n",
      "\n",
      "Функция потерь: 6.911169849209403\n",
      "Value = 0.12944774717465002\n",
      "\n",
      "\n",
      "Функция потерь: 6.780038431649322\n",
      "Value = 0.1311796024542788\n",
      "\n",
      "\n",
      "Функция потерь: 6.604221082331105\n",
      "Value = 0.17585328833988306\n",
      "\n",
      "\n",
      "Функция потерь: 6.490565394877001\n",
      "Value = 0.11371127250431973\n",
      "\n",
      "\n",
      "Функция потерь: 6.400576831436889\n",
      "Value = 0.09005875465679532\n",
      "\n",
      "\n",
      "Функция потерь: 6.286989495109625\n",
      "Value = 0.11364295087693575\n",
      "\n",
      "\n",
      "Функция потерь: 6.087438140948075\n",
      "Value = 0.19958301440208573\n",
      "\n",
      "\n",
      "Функция потерь: 5.9292024318721355\n",
      "Value = 0.1582756326605434\n",
      "\n",
      "\n",
      "Функция потерь: 5.833747626437118\n",
      "Value = 0.09552096939071751\n",
      "\n",
      "\n",
      "Функция потерь: 5.75957070800456\n",
      "Value = 0.07426203977189694\n",
      "\n",
      "\n",
      "Функция потерь: 5.641263609932745\n",
      "Value = 0.11836048505423401\n",
      "\n",
      "\n",
      "Функция потерь: 5.420045388125963\n",
      "Value = 0.22124677693653355\n",
      "\n",
      "\n",
      "Функция потерь: 5.237228946710704\n",
      "Value = 0.182850992653649\n",
      "\n",
      "\n",
      "Функция потерь: 5.17899938289686\n",
      "Value = 0.05833794358693558\n",
      "\n",
      "\n",
      "Функция потерь: 5.12318711871169\n",
      "Value = 0.05592532336253757\n",
      "\n",
      "\n",
      "Функция потерь: 5.046522201134465\n",
      "Value = 0.07674726226481954\n",
      "\n",
      "\n",
      "Функция потерь: 4.902908521680649\n",
      "Value = 0.1436576533071218\n",
      "\n",
      "\n",
      "Функция потерь: 4.844458936214877\n",
      "Value = 0.05855754514056565\n",
      "\n",
      "\n",
      "Функция потерь: 4.636870092506334\n",
      "Value = 0.20761926623092672\n",
      "\n",
      "\n",
      "Функция потерь: 4.512522099651986\n",
      "Value = 0.12439877275843111\n",
      "\n",
      "\n",
      "Функция потерь: 4.4732045433685\n",
      "Value = 0.03947785626257499\n",
      "\n",
      "\n",
      "Функция потерь: 4.36952842210249\n",
      "Value = 0.1037370168000194\n",
      "\n",
      "\n",
      "Функция потерь: 4.118119153926421\n",
      "Value = 0.25143438595862105\n",
      "\n",
      "\n",
      "Функция потерь: 4.055880664562428\n",
      "Value = 0.062339871228390756\n",
      "\n",
      "\n",
      "Функция потерь: 3.9090348100108203\n",
      "Value = 0.14688885094657703\n",
      "\n",
      "\n",
      "Функция потерь: 3.8256160033083253\n",
      "Value = 0.08349447086196018\n",
      "\n",
      "\n",
      "Функция потерь: 3.7423929593171534\n",
      "Value = 0.08329888382019245\n",
      "\n",
      "\n",
      "Функция потерь: 3.7430711001945753\n",
      "Value = 0.0036178179293681867\n",
      "\n",
      "\n"
     ]
    },
    {
     "data": {
      "text/plain": [
       "array([0.999, 0.999, 0.999, ..., 0.999, 0.999, 0.999])"
      ]
     },
     "execution_count": 232,
     "metadata": {},
     "output_type": "execute_result"
    }
   ],
   "source": [
    "alpha = 0.01\n",
    "lbd = 0.0000001\n",
    "\n",
    "w_0 = np.full(X_train.shape[1], 0.08).T\n",
    "b_0 = 0.001\n",
    "\n",
    "\n",
    "y_pred_0 = []\n",
    "for i in range(X_train.shape[0]):\n",
    "    if sigmoid(X_train[i], w_0, b_0) != 1:\n",
    "        y_pred_0.append(sigmoid(X_train[i], w_0, b_0))\n",
    "    else:\n",
    "        y_pred_0.append(0.999)\n",
    "    \n",
    "y_pred_0 = np.array(y_pred_0)\n",
    "func_0 = log_loss(y_train, y_pred_0)\n",
    "\n",
    "w_1 = w_0 - lbd * log_loss_dw(y_train, y_pred_0, X_train)\n",
    "b_1 = b_0 - lbd * log_loss_db(y_pred_0, y_train)\n",
    "\n",
    "y_pred_1 = []\n",
    "for i in range(X_train.shape[0]):\n",
    "    if sigmoid(X_train[i], w_1, b_1) != 1:\n",
    "        y_pred_1.append(sigmoid(X_train[i], w_1, b_1))\n",
    "    else:\n",
    "        y_pred_1.append(0.999)\n",
    "    \n",
    "y_pred_1 = np.array(y_pred_1)\n",
    "func_1 = log_loss(y_train, y_pred_1)\n",
    "\n",
    "value = norm(w_0, w_1, b_0, b_1, func_0, func_1)\n",
    "print(value)\n",
    "\n",
    "while value > alpha:\n",
    "    w_0, b_0 = w_1, b_1\n",
    "    w_1 = w_0 - lbd * log_loss_dw(y_train, y_pred_0, X_train)\n",
    "    b_1 = b_0 - lbd * log_loss_db(y_pred_0, y_train)\n",
    "    y_pred_0 = []\n",
    "    for i in range(X_train.shape[0]):\n",
    "        if sigmoid(X_train[i], w_0, b_0) != 1:\n",
    "            y_pred_0.append(sigmoid(X_train[i], w_0, b_0))\n",
    "        else:\n",
    "            y_pred_0.append(0.999)\n",
    "    \n",
    "    y_pred_0 = np.array(y_pred_1)\n",
    "\n",
    "    y_pred_1 = []\n",
    "    for i in range(X_train.shape[0]):\n",
    "        if sigmoid(X_train[i], w_1, b_1) != 1:\n",
    "            y_pred_1.append(sigmoid(X_train[i], w_1, b_1))\n",
    "        else:\n",
    "            y_pred_1.append(0.999)\n",
    "    \n",
    "    y_pred_1 = np.array(y_pred_1)\n",
    "\n",
    "    value = norm(w_0, w_1, b_0, b_1, log_loss(y_train, y_pred_0), log_loss(y_train, y_pred_1))\n",
    "    #print(w)\n",
    "    #print(b)\n",
    "    print(f'Функция потерь: {log_loss(y_train, y_pred_1)}')\n",
    "    #print(f'Производная по w{log_loss_dw(y_train, y_pred, X_train)}')\n",
    "    #print(f'Производная по b{log_loss_db(y_pred, y_train)}')\n",
    "    print(f'Value = {value}')\n",
    "    print()\n",
    "    print()\n",
    "\n",
    "y_pred_0"
   ]
  },
  {
   "cell_type": "code",
   "execution_count": 228,
   "metadata": {},
   "outputs": [
    {
     "data": {
      "text/plain": [
       "array([1, 1, 1, ..., 1, 0, 1])"
      ]
     },
     "execution_count": 228,
     "metadata": {},
     "output_type": "execute_result"
    }
   ],
   "source": [
    "y_train"
   ]
  },
  {
   "cell_type": "code",
   "execution_count": 206,
   "metadata": {},
   "outputs": [
    {
     "data": {
      "text/plain": [
       "{0: 209, 1: 205}"
      ]
     },
     "execution_count": 206,
     "metadata": {},
     "output_type": "execute_result"
    }
   ],
   "source": [
    "{i:list(y_test).count(i) for i in list(y_test)}"
   ]
  },
  {
   "cell_type": "code",
   "execution_count": 233,
   "metadata": {},
   "outputs": [
    {
     "data": {
      "text/plain": [
       "{0.999: 1348,\n",
       " 0.9999999999999998: 21,\n",
       " 0.9999999999999991: 1,\n",
       " 0.9999999999999996: 7,\n",
       " 0.9999999999995406: 1,\n",
       " 0.9999999999999984: 1,\n",
       " 0.9999999999999993: 3,\n",
       " 0.9999999999999967: 1}"
      ]
     },
     "execution_count": 233,
     "metadata": {},
     "output_type": "execute_result"
    }
   ],
   "source": [
    "{i:list(y_pred_0).count(i) for i in list(y_pred_0)}"
   ]
  },
  {
   "cell_type": "code",
   "execution_count": 207,
   "metadata": {},
   "outputs": [
    {
     "data": {
      "text/plain": [
       "array([8.000000e-05, 8.588750e-05, 1.814857e-04, 3.214111e-04,\n",
       "       3.195993e-04, 1.652508e-04, 8.804460e-05, 8.009720e-05,\n",
       "       8.009980e-05, 1.307087e-04, 2.741627e-04, 3.290068e-04,\n",
       "       3.327606e-04, 2.402613e-04, 1.049285e-04, 8.139680e-05,\n",
       "       8.019980e-05, 1.348827e-04, 2.501952e-04, 2.424156e-04,\n",
       "       2.806950e-04, 2.452804e-04, 1.166352e-04, 8.079900e-05,\n",
       "       8.000000e-05, 1.319961e-04, 2.399273e-04, 2.444208e-04,\n",
       "       2.899791e-04, 2.263926e-04, 1.299152e-04, 8.019980e-05,\n",
       "       8.000000e-05, 1.429042e-04, 2.310874e-04, 2.517133e-04,\n",
       "       2.944726e-04, 2.537385e-04, 1.384836e-04, 8.000000e-05,\n",
       "       8.069930e-05, 1.286323e-04, 2.360153e-04, 2.478966e-04,\n",
       "       2.467828e-04, 2.524609e-04, 1.480557e-04, 7.999980e-05,\n",
       "       8.089910e-05, 9.896880e-05, 2.421917e-04, 2.849031e-04,\n",
       "       3.113235e-04, 2.769510e-04, 1.576414e-04, 8.559260e-05,\n",
       "       8.000000e-05, 8.508870e-05, 1.861698e-04, 3.266974e-04,\n",
       "       3.492204e-04, 2.317192e-04, 1.311111e-04, 9.128850e-05])"
      ]
     },
     "execution_count": 207,
     "metadata": {},
     "output_type": "execute_result"
    }
   ],
   "source": [
    "w_0 = np.full(X_test.shape[1], 0.00008).T\n",
    "w_1 = w_0 - lbd * log_loss_dw(y_test, y_pred, X_test)\n",
    "w_1"
   ]
  },
  {
   "cell_type": "code",
   "execution_count": 208,
   "metadata": {},
   "outputs": [
    {
     "data": {
      "text/plain": [
       "3.487743854772097"
      ]
     },
     "execution_count": 208,
     "metadata": {},
     "output_type": "execute_result"
    }
   ],
   "source": [
    "log_loss(y_test, y_pred)"
   ]
  },
  {
   "cell_type": "code",
   "execution_count": 209,
   "metadata": {},
   "outputs": [
    {
     "data": {
      "text/plain": [
       "array([0.999, 0.999, 0.999, 0.999, 0.999, 0.999, 0.999, 0.999, 0.999,\n",
       "       0.999, 0.999, 0.999, 0.999, 0.999, 0.999, 0.999, 0.999, 0.999,\n",
       "       0.999, 0.999, 0.999, 0.999, 0.999, 0.999, 0.999, 0.999, 0.999,\n",
       "       0.999, 0.999, 0.999, 0.999, 0.999, 0.999, 0.999, 0.999, 0.999,\n",
       "       0.999, 0.999, 0.999, 0.999, 0.999, 0.999, 0.999, 0.999, 0.999,\n",
       "       0.999, 0.999, 0.999, 0.999, 0.999, 0.999, 0.999, 0.999, 0.999,\n",
       "       0.999, 0.999, 0.999, 0.999, 0.999, 0.999, 0.999, 0.999, 0.999,\n",
       "       0.999, 0.999, 0.999, 0.999, 0.999, 0.999, 0.999, 0.999, 0.999,\n",
       "       0.999, 0.999, 0.999, 0.999, 0.999, 0.999, 0.999, 0.999, 0.999,\n",
       "       0.999, 0.999, 0.999, 0.999, 0.999, 0.999, 0.999, 0.999, 0.999,\n",
       "       0.999, 0.999, 0.999, 0.999, 0.999, 0.999, 0.999, 0.999, 0.999,\n",
       "       0.999, 0.999, 0.999, 0.999, 0.999, 0.999, 0.999, 0.999, 0.999,\n",
       "       0.999, 0.999, 0.999, 0.999, 0.999, 0.999, 0.999, 0.999, 0.999,\n",
       "       0.999, 0.999, 0.999, 0.999, 0.999, 0.999, 0.999, 0.999, 0.999,\n",
       "       0.999, 0.999, 0.999, 0.999, 0.999, 0.999, 0.999, 0.999, 0.999,\n",
       "       0.999, 0.999, 0.999, 0.999, 0.999, 0.999, 0.999, 0.999, 0.999,\n",
       "       0.999, 0.999, 0.999, 0.999, 0.999, 0.999, 0.999, 0.999, 0.999,\n",
       "       0.999, 0.999, 0.999, 0.999, 0.999, 0.999, 0.999, 0.999, 0.999,\n",
       "       0.999, 0.999, 0.999, 0.999, 0.999, 0.999, 0.999, 0.999, 0.999,\n",
       "       0.999, 0.999, 0.999, 0.999, 0.999, 0.999, 0.999, 0.999, 0.999,\n",
       "       0.999, 0.999, 0.999, 0.999, 0.999, 0.999, 0.999, 0.999, 0.999,\n",
       "       0.999, 0.999, 0.999, 0.999, 0.999, 0.999, 0.999, 0.999, 0.999,\n",
       "       0.999, 0.999, 0.999, 0.999, 0.999, 0.999, 0.999, 0.999, 0.999,\n",
       "       0.999, 0.999, 0.999, 0.999, 0.999, 0.999, 0.999, 0.999, 0.999,\n",
       "       0.999, 0.999, 0.999, 0.999, 0.999, 0.999, 0.999, 0.999, 0.999,\n",
       "       0.999, 0.999, 0.999, 0.999, 0.999, 0.999, 0.999, 0.999, 0.999,\n",
       "       0.999, 0.999, 0.999, 0.999, 0.999, 0.999, 0.999, 0.999, 0.999,\n",
       "       0.999, 0.999, 0.999, 0.999, 0.999, 0.999, 0.999, 0.999, 0.999,\n",
       "       0.999, 0.999, 0.999, 0.999, 0.999, 0.999, 0.999, 0.999, 0.999,\n",
       "       0.999, 0.999, 0.999, 0.999, 0.999, 0.999, 0.999, 0.999, 0.999,\n",
       "       0.999, 0.999, 0.999, 0.999, 0.999, 0.999, 0.999, 0.999, 0.999,\n",
       "       0.999, 0.999, 0.999, 0.999, 0.999, 0.999, 0.999, 0.999, 0.999,\n",
       "       0.999, 0.999, 0.999, 0.999, 0.999, 0.999, 0.999, 0.999, 0.999,\n",
       "       0.999, 0.999, 0.999, 0.999, 0.999, 0.999, 0.999, 0.999, 0.999,\n",
       "       0.999, 0.999, 0.999, 0.999, 0.999, 0.999, 0.999, 0.999, 0.999,\n",
       "       0.999, 0.999, 0.999, 0.999, 0.999, 0.999, 0.999, 0.999, 0.999,\n",
       "       0.999, 0.999, 0.999, 0.999, 0.999, 0.999, 0.999, 0.999, 0.999,\n",
       "       0.999, 0.999, 0.999, 0.999, 0.999, 0.999, 0.999, 0.999, 0.999,\n",
       "       0.999, 0.999, 0.999, 0.999, 0.999, 0.999, 0.999, 0.999, 0.999,\n",
       "       0.999, 0.999, 0.999, 0.999, 0.999, 0.999, 0.999, 0.999, 0.999,\n",
       "       0.999, 0.999, 0.999, 0.999, 0.999, 0.999, 0.999, 0.999, 0.999,\n",
       "       0.999, 0.999, 0.999, 0.999, 0.999, 0.999, 0.999, 0.999, 0.999,\n",
       "       0.999, 0.999, 0.999, 0.999, 0.999, 0.999, 0.999, 0.999, 0.999,\n",
       "       0.999, 0.999, 0.999, 0.999, 0.999, 0.999, 0.999, 0.999, 0.999,\n",
       "       0.999, 0.999, 0.999, 0.999, 0.999, 0.999, 0.999, 0.999, 0.999,\n",
       "       0.999, 0.999, 0.999, 0.999, 0.999, 0.999, 0.999, 0.999, 0.999])"
      ]
     },
     "execution_count": 209,
     "metadata": {},
     "output_type": "execute_result"
    }
   ],
   "source": [
    "y_pred"
   ]
  },
  {
   "cell_type": "code",
   "execution_count": 211,
   "metadata": {},
   "outputs": [
    {
     "data": {
      "text/plain": [
       "0.0216"
      ]
     },
     "execution_count": 211,
     "metadata": {},
     "output_type": "execute_result"
    }
   ],
   "source": [
    "np.matmul(w_0, X_test[2])"
   ]
  },
  {
   "cell_type": "code",
   "execution_count": 212,
   "metadata": {},
   "outputs": [
    {
     "data": {
      "text/plain": [
       "0.021670000000000002"
      ]
     },
     "execution_count": 212,
     "metadata": {},
     "output_type": "execute_result"
    }
   ],
   "source": [
    "np.matmul(w_0, X_test[2]) + b"
   ]
  },
  {
   "cell_type": "code",
   "execution_count": 213,
   "metadata": {},
   "outputs": [
    {
     "data": {
      "text/plain": [
       "0.9787001160252474"
      ]
     },
     "execution_count": 213,
     "metadata": {},
     "output_type": "execute_result"
    }
   ],
   "source": [
    "np.exp(-np.matmul(w_0, X_test[2]) + b)"
   ]
  },
  {
   "cell_type": "code",
   "execution_count": 217,
   "metadata": {},
   "outputs": [
    {
     "data": {
      "text/plain": [
       "0.5053972903492374"
      ]
     },
     "execution_count": 217,
     "metadata": {},
     "output_type": "execute_result"
    }
   ],
   "source": [
    "1 / (1 + np.exp(-np.matmul(w_0, X_test[2]) + b_0))"
   ]
  },
  {
   "cell_type": "code",
   "execution_count": 215,
   "metadata": {},
   "outputs": [
    {
     "data": {
      "text/plain": [
       "0.5053972903492374"
      ]
     },
     "execution_count": 215,
     "metadata": {},
     "output_type": "execute_result"
    }
   ],
   "source": [
    "sigmoid(X_test[2], w_0, b_0)"
   ]
  },
  {
   "cell_type": "code",
   "execution_count": 216,
   "metadata": {},
   "outputs": [
    {
     "data": {
      "text/plain": [
       "array([8.000000e-05, 8.588750e-05, 1.814857e-04, 3.214111e-04,\n",
       "       3.195993e-04, 1.652508e-04, 8.804460e-05, 8.009720e-05,\n",
       "       8.009980e-05, 1.307087e-04, 2.741627e-04, 3.290068e-04,\n",
       "       3.327606e-04, 2.402613e-04, 1.049285e-04, 8.139680e-05,\n",
       "       8.019980e-05, 1.348827e-04, 2.501952e-04, 2.424156e-04,\n",
       "       2.806950e-04, 2.452804e-04, 1.166352e-04, 8.079900e-05,\n",
       "       8.000000e-05, 1.319961e-04, 2.399273e-04, 2.444208e-04,\n",
       "       2.899791e-04, 2.263926e-04, 1.299152e-04, 8.019980e-05,\n",
       "       8.000000e-05, 1.429042e-04, 2.310874e-04, 2.517133e-04,\n",
       "       2.944726e-04, 2.537385e-04, 1.384836e-04, 8.000000e-05,\n",
       "       8.069930e-05, 1.286323e-04, 2.360153e-04, 2.478966e-04,\n",
       "       2.467828e-04, 2.524609e-04, 1.480557e-04, 7.999980e-05,\n",
       "       8.089910e-05, 9.896880e-05, 2.421917e-04, 2.849031e-04,\n",
       "       3.113235e-04, 2.769510e-04, 1.576414e-04, 8.559260e-05,\n",
       "       8.000000e-05, 8.508870e-05, 1.861698e-04, 3.266974e-04,\n",
       "       3.492204e-04, 2.317192e-04, 1.311111e-04, 9.128850e-05])"
      ]
     },
     "execution_count": 216,
     "metadata": {},
     "output_type": "execute_result"
    }
   ],
   "source": [
    "w_1"
   ]
  },
  {
   "cell_type": "code",
   "execution_count": 218,
   "metadata": {},
   "outputs": [
    {
     "data": {
      "text/plain": [
       "0.516638381126909"
      ]
     },
     "execution_count": 218,
     "metadata": {},
     "output_type": "execute_result"
    }
   ],
   "source": [
    "1 / (1 + np.exp(-np.matmul(w_1, X_test[2]) + b_1))"
   ]
  },
  {
   "cell_type": "code",
   "execution_count": null,
   "metadata": {},
   "outputs": [],
   "source": []
  }
 ],
 "metadata": {
  "colab": {
   "provenance": []
  },
  "kernelspec": {
   "display_name": "Python 3 (ipykernel)",
   "language": "python",
   "name": "python3"
  },
  "language_info": {
   "codemirror_mode": {
    "name": "ipython",
    "version": 3
   },
   "file_extension": ".py",
   "mimetype": "text/x-python",
   "name": "python",
   "nbconvert_exporter": "python",
   "pygments_lexer": "ipython3",
   "version": "3.11.5"
  }
 },
 "nbformat": 4,
 "nbformat_minor": 4
}
